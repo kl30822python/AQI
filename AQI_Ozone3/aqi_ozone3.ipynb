{
 "cells": [
  {
   "cell_type": "code",
   "execution_count": null,
   "metadata": {},
   "outputs": [],
   "source": [
    "import ozon3 as ooo\n",
    "\n",
    "o3 = ooo.Ozon3('87fbcd3ea71ac1dc7f64fb06ff18c0505d359b91')\n",
    "data = o3.get_city_air('Taipei')\n",
    "\n",
    "print (data)"
   ]
  },
  {
   "cell_type": "code",
   "execution_count": 3,
   "metadata": {},
   "outputs": [
    {
     "name": "stdout",
     "output_type": "stream",
     "text": [
      "         city   latitude   longitude               station dominant_pollutant   \n",
      "0  New Taipei        NaN         NaN                   NaN                NaN  \\\n",
      "1     Hsinchu  24.805619  120.972075  Hsinchu, Taiwan (新竹)              pm2.5   \n",
      "2    Taichung  24.099611  120.677689     Dali, Taiwan (大里)              pm2.5   \n",
      "3   Kaohsiung  22.608711  120.312017   Fuxing, Taiwan (復興)                 o3   \n",
      "4     Hualien  23.971306  121.599769  Hualien, Taiwan (花蓮)              pm2.5   \n",
      "\n",
      "             timestamp timestamp_timezone   aqi AQI_meaning   \n",
      "0                  NaN                NaN   NaN         NaN  \\\n",
      "1  2023-05-11 15:00:00             +08:00  59.0    Moderate   \n",
      "2  2023-05-11 15:00:00             +08:00  93.0    Moderate   \n",
      "3  2023-05-11 15:00:00             +08:00  49.0        Good   \n",
      "4  2023-05-11 15:00:00             +08:00  55.0    Moderate   \n",
      "\n",
      "                             AQI_health_implications  ...    o3   co  no2   \n",
      "0                                                NaN  ...   NaN  NaN  NaN  \\\n",
      "1  Air quality is acceptable; however, for some p...  ...  48.0  2.6  6.6   \n",
      "2  Air quality is acceptable; however, for some p...  ...  89.0  3.8  7.9   \n",
      "3  Air quality is considered satisfactory, and ai...  ...  49.2  3.0  7.3   \n",
      "4  Air quality is acceptable; however, for some p...  ...  41.2  1.8  1.5   \n",
      "\n",
      "   so2   dew     h       p     t    w    wg  \n",
      "0  NaN   NaN   NaN     NaN   NaN  NaN   NaN  \n",
      "1  1.9   NaN  65.0  1010.2  26.9  2.5   7.0  \n",
      "2  4.0   NaN  50.0  1014.7  29.3  1.3   NaN  \n",
      "3  1.5   NaN  63.0  1013.2  28.7  1.6  13.0  \n",
      "4  1.5  19.1  57.0  1014.4  27.6  3.4   NaN  \n",
      "\n",
      "[5 rows x 22 columns]\n"
     ]
    }
   ],
   "source": [
    "data = o3.get_multiple_city_air(['New Taipei', 'Hsinchu', 'Taichung', 'Kaohsiung', 'Hualien'])     # As many locations as you need\n",
    "print (data)"
   ]
  },
  {
   "cell_type": "code",
   "execution_count": null,
   "metadata": {},
   "outputs": [],
   "source": [
    "data = o3.get_historical_data(city='Taipei') \n",
    "print (data)"
   ]
  },
  {
   "cell_type": "code",
   "execution_count": null,
   "metadata": {},
   "outputs": [],
   "source": []
  }
 ],
 "metadata": {
  "kernelspec": {
   "display_name": "venv",
   "language": "python",
   "name": "python3"
  },
  "language_info": {
   "codemirror_mode": {
    "name": "ipython",
    "version": 3
   },
   "file_extension": ".py",
   "mimetype": "text/x-python",
   "name": "python",
   "nbconvert_exporter": "python",
   "pygments_lexer": "ipython3",
   "version": "3.8.6"
  },
  "orig_nbformat": 4
 },
 "nbformat": 4,
 "nbformat_minor": 2
}
